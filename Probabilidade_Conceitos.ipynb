{
  "nbformat": 4,
  "nbformat_minor": 0,
  "metadata": {
    "colab": {
      "name": "Probabilidade - Conceitos.ipynb",
      "provenance": [],
      "collapsed_sections": [],
      "authorship_tag": "ABX9TyMo8kHSpELsfdvDM9cE06VH",
      "include_colab_link": true
    },
    "kernelspec": {
      "name": "python3",
      "display_name": "Python 3"
    }
  },
  "cells": [
    {
      "cell_type": "markdown",
      "metadata": {
        "id": "view-in-github",
        "colab_type": "text"
      },
      "source": [
        "<a href=\"https://colab.research.google.com/github/whaner/Probabilidade-101/blob/master/Probabilidade_Conceitos.ipynb\" target=\"_parent\"><img src=\"https://colab.research.google.com/assets/colab-badge.svg\" alt=\"Open In Colab\"/></a>"
      ]
    },
    {
      "cell_type": "markdown",
      "metadata": {
        "id": "A5YieN1dhVEH",
        "colab_type": "text"
      },
      "source": [
        "# **Introdução**"
      ]
    },
    {
      "cell_type": "markdown",
      "metadata": {
        "id": "5VdZhBSOhp_t",
        "colab_type": "text"
      },
      "source": [
        "**Probabilidade** é uma medida numérica da *possibilidade de um evento ocorrer* e seus valores probabilísticos variam entre 0 e 1 ou seja, 0% a 100% de possibilidade de ocorrer."
      ]
    },
    {
      "cell_type": "markdown",
      "metadata": {
        "id": "gjWyeu8TiLoK",
        "colab_type": "text"
      },
      "source": [
        "**Experimento** é um processo que gera algum resultado bem definido. Jogar uma moeda e verificar o resultado, por exemplo. São duas possibilidades: cara ou coroa.<p>\n"
      ]
    },
    {
      "cell_type": "markdown",
      "metadata": {
        "id": "5blWOh_WitvQ",
        "colab_type": "text"
      },
      "source": [
        "**Espaço amostral (*S*)** é o conjunto de todos os resultados experimentais possíveis em um experimento. No caso da moeda, o espaço amostral é composto por dois elementos: cara e coroa. Cada um destes resultados é chamado **ponto amostral**.<p>\n",
        "No caso do experimento da moeda temos:<p>\n",
        "*S* = {cara, coroa}"
      ]
    },
    {
      "cell_type": "markdown",
      "metadata": {
        "id": "dzN_suSxEtnm",
        "colab_type": "text"
      },
      "source": [
        "###Regras de contagem, combinações e permutações"
      ]
    },
    {
      "cell_type": "markdown",
      "metadata": {
        "id": "u2eoHZB8Bfzu",
        "colab_type": "text"
      },
      "source": [
        "**Experimentos em múltiplas etapas**"
      ]
    },
    {
      "cell_type": "markdown",
      "metadata": {
        "id": "mVYpqTkYB_pk",
        "colab_type": "text"
      },
      "source": [
        "Imagine um experimento que consiste em jogar duas moedas e verificar se dá cara (H) ou coroa (T). Podemos considerar que cada lançamento é **uma etapa**.\n",
        "Quantos pontos amostrais existem no experimento? Qual é o espaço amostral?<p>\n",
        "Podemos definir *S* como: "
      ]
    },
    {
      "cell_type": "markdown",
      "metadata": {
        "id": "WbW935KKC37o",
        "colab_type": "text"
      },
      "source": [
        "S = {(H,H), (H,T), (T,H), (T,T)}, ou seja, existem 4 pontos amostrais no nosso espaço amostral."
      ]
    },
    {
      "cell_type": "markdown",
      "metadata": {
        "id": "YMax9w_9Da9N",
        "colab_type": "text"
      },
      "source": [
        "Sendo *k* o número de etapas e *nk* a quantidade de resultados em cada etapa, temos que o número total de resultados será igual a:<p>\n",
        "**(n1)*(n2)*(n3)*...*(nk)**"
      ]
    },
    {
      "cell_type": "markdown",
      "metadata": {
        "id": "YbPGskDvEUXD",
        "colab_type": "text"
      },
      "source": [
        "Por exemplo, se tivermos um experimento com seis moedas, o total de resultados seria:<p>\n",
        "(2)(2)(2)(2)(2)(2) = 64 resultados"
      ]
    },
    {
      "cell_type": "markdown",
      "metadata": {
        "id": "DcJKq5KLFBF6",
        "colab_type": "text"
      },
      "source": [
        "**Combinações**"
      ]
    },
    {
      "cell_type": "markdown",
      "metadata": {
        "id": "afrXKxlFFJ53",
        "colab_type": "text"
      },
      "source": [
        "Quantos resultados experimentais existem em um experimento que envolve escolher *n* objetos de um conjunto com **N** objetos?"
      ]
    },
    {
      "cell_type": "markdown",
      "metadata": {
        "id": "dWvwvZXLFl--",
        "colab_type": "text"
      },
      "source": [
        "**Regra de contagem de comunições** - Número de combinações de *N* objetos, tomados n a cada vez:"
      ]
    },
    {
      "cell_type": "markdown",
      "metadata": {
        "id": "2o01HXERGUb5",
        "colab_type": "text"
      },
      "source": [
        "### $\\mathrm{C}_{n}^{N} = \\binom{N}{n} = \\frac{N!}{n!\\left( N - n \\right)!}$"
      ]
    },
    {
      "cell_type": "code",
      "metadata": {
        "id": "vdGGTPINhZMF",
        "colab_type": "code",
        "colab": {}
      },
      "source": [
        ""
      ],
      "execution_count": 0,
      "outputs": []
    }
  ]
}