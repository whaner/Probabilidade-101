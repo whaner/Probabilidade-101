{
  "nbformat": 4,
  "nbformat_minor": 0,
  "metadata": {
    "colab": {
      "name": "Probabilidade - Conceitos.ipynb",
      "provenance": [],
      "collapsed_sections": [],
      "authorship_tag": "ABX9TyMj/u3AcLxANDppTwY+iyVH",
      "include_colab_link": true
    },
    "kernelspec": {
      "name": "python3",
      "display_name": "Python 3"
    }
  },
  "cells": [
    {
      "cell_type": "markdown",
      "metadata": {
        "id": "view-in-github",
        "colab_type": "text"
      },
      "source": [
        "<a href=\"https://colab.research.google.com/github/whaner/Probabilidade-101/blob/master/Probabilidade_Conceitos.ipynb\" target=\"_parent\"><img src=\"https://colab.research.google.com/assets/colab-badge.svg\" alt=\"Open In Colab\"/></a>"
      ]
    },
    {
      "cell_type": "code",
      "metadata": {
        "id": "JdH0jQAkhScn",
        "colab_type": "code",
        "colab": {}
      },
      "source": [
        ""
      ],
      "execution_count": 0,
      "outputs": []
    },
    {
      "cell_type": "markdown",
      "metadata": {
        "id": "A5YieN1dhVEH",
        "colab_type": "text"
      },
      "source": [
        "# **Introdução**"
      ]
    },
    {
      "cell_type": "markdown",
      "metadata": {
        "id": "5VdZhBSOhp_t",
        "colab_type": "text"
      },
      "source": [
        "**Probabilidade** é uma medida numérica da *possibilidade de um evento ocorrer* e seus valores probabilísticos variam entre 0 e 1 ou seja, 0% a 100% de possibilidade de ocorrer."
      ]
    },
    {
      "cell_type": "markdown",
      "metadata": {
        "id": "gjWyeu8TiLoK",
        "colab_type": "text"
      },
      "source": [
        "**Experimento** é um processo que gera algum resultado bem definido. Jogar uma moeda e verificar o resultado, por exemplo. São duas possibilidades: cara ou coroa.<p>\n"
      ]
    },
    {
      "cell_type": "markdown",
      "metadata": {
        "id": "5blWOh_WitvQ",
        "colab_type": "text"
      },
      "source": [
        "**Espaço amostral (*S*)** é o conjunto de todos os resultados experimentais possíveis em um experimento. No caso da moeda, o espaço amostral é composto por dois elementos: cara e coroa. Cada um destes resultados é chamado **ponto amostral**.<p>\n",
        "No caso do experimento da moeda temos:<p>\n",
        "*S* = {cara, coroa}"
      ]
    },
    {
      "cell_type": "code",
      "metadata": {
        "id": "vdGGTPINhZMF",
        "colab_type": "code",
        "colab": {}
      },
      "source": [
        ""
      ],
      "execution_count": 0,
      "outputs": []
    }
  ]
}