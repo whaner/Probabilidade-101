{
  "nbformat": 4,
  "nbformat_minor": 0,
  "metadata": {
    "colab": {
      "name": "Distribuição de probabilidade binomial.ipynb",
      "provenance": [],
      "authorship_tag": "ABX9TyNMBGwgYwUOh7XuQYaD/cR6",
      "include_colab_link": true
    },
    "kernelspec": {
      "name": "python3",
      "display_name": "Python 3"
    }
  },
  "cells": [
    {
      "cell_type": "markdown",
      "metadata": {
        "id": "view-in-github",
        "colab_type": "text"
      },
      "source": [
        "<a href=\"https://colab.research.google.com/github/whaner/Probabilidade-101/blob/master/Distribui%C3%A7%C3%A3o_de_probabilidade_binomial.ipynb\" target=\"_parent\"><img src=\"https://colab.research.google.com/assets/colab-badge.svg\" alt=\"Open In Colab\"/></a>"
      ]
    },
    {
      "cell_type": "code",
      "metadata": {
        "id": "1bd0wQVCrUxa",
        "colab_type": "code",
        "colab": {}
      },
      "source": [
        "import math\n",
        "import pandas as pd\n",
        "import numpy as np\n"
      ],
      "execution_count": 0,
      "outputs": []
    },
    {
      "cell_type": "markdown",
      "metadata": {
        "id": "smPksP2DrbdM",
        "colab_type": "text"
      },
      "source": [
        "## Propriedade de um experimento binomial"
      ]
    },
    {
      "cell_type": "markdown",
      "metadata": {
        "id": "ry9sRALvrjyJ",
        "colab_type": "text"
      },
      "source": [
        "1.\tO experimento consiste em uma sequência de n ensaios idênticos.<p>\n",
        "2.\tDois resultados são possíveis em cada ensaio. Referimo-nos a um como um sucesso e ao outro como umfracasso.<p>\n",
        "3.\tA probabilidade de um sucesso, denotado por p, não se modifica de ensaio para ensaio. Consequentemente, a probabilidade de um fracasso, denotado por 1 - p, não se modifica de ensaio para ensaio.<p>\n",
        "4.\tOs ensaios são independentes."
      ]
    },
    {
      "cell_type": "markdown",
      "metadata": {
        "id": "WYK1t_ZfsGJZ",
        "colab_type": "text"
      },
      "source": [
        "###**x = número de sucessos**<p>\n",
        "###**n = número de ensaios**<p>\n"
      ]
    },
    {
      "cell_type": "markdown",
      "metadata": {
        "id": "s6N9lilvwsZZ",
        "colab_type": "text"
      },
      "source": [
        "Como calcular o número de resultados experimentais que fornecem exatamente x sucessos em n ensaios:"
      ]
    },
    {
      "cell_type": "markdown",
      "metadata": {
        "id": "Dc9ao0AMw5x8",
        "colab_type": "text"
      },
      "source": [
        "## $ \\binom{n}{x} = \\frac{n!}{x!(n - x)!}$"
      ]
    },
    {
      "cell_type": "code",
      "metadata": {
        "id": "ejbZ1axnsUKV",
        "colab_type": "code",
        "outputId": "49763535-9a8c-46b4-bed0-01cf04e1f14f",
        "colab": {
          "base_uri": "https://localhost:8080/",
          "height": 34
        }
      },
      "source": [
        "x = 5 #define x - número de sucesso\n",
        "n = 10 #define n - número de ensaios\n",
        "calculo = math.factorial(n)/(math.factorial(x)*math.factorial(n-x)) #definindo a variável 'cálculo' contendo o número de resultados\n",
        "calculo"
      ],
      "execution_count": 0,
      "outputs": [
        {
          "output_type": "execute_result",
          "data": {
            "text/plain": [
              "252.0"
            ]
          },
          "metadata": {
            "tags": []
          },
          "execution_count": 3
        }
      ]
    },
    {
      "cell_type": "markdown",
      "metadata": {
        "id": "UdB4yWG8yss_",
        "colab_type": "text"
      },
      "source": [
        "Probabilidade de uma sequência de resultados de ensaio em particular com\tx sucessos em n ensaios:"
      ]
    },
    {
      "cell_type": "markdown",
      "metadata": {
        "id": "BXBg6oE8zD_b",
        "colab_type": "text"
      },
      "source": [
        "### $p^{x}(1-p)^{n-x}$"
      ]
    },
    {
      "cell_type": "code",
      "metadata": {
        "id": "DKxseEgNxzGV",
        "colab_type": "code",
        "outputId": "683d13ce-f2d9-4b49-a92e-1b2b2d39a7b1",
        "colab": {
          "base_uri": "https://localhost:8080/",
          "height": 34
        }
      },
      "source": [
        "p = 0.3 #defina o valor da probabilidade de sucesso\n",
        "probabilidade = p**x*(1-p)**(n-x)\n",
        "probabilidade"
      ],
      "execution_count": 0,
      "outputs": [
        {
          "output_type": "execute_result",
          "data": {
            "text/plain": [
              "0.00040841009999999976"
            ]
          },
          "metadata": {
            "tags": []
          },
          "execution_count": 4
        }
      ]
    },
    {
      "cell_type": "markdown",
      "metadata": {
        "id": "yj9idC5U0QAT",
        "colab_type": "text"
      },
      "source": [
        "## Função de probabilidade binomial f(x):"
      ]
    },
    {
      "cell_type": "markdown",
      "metadata": {
        "id": "A5SjBoqx0T1m",
        "colab_type": "text"
      },
      "source": [
        "# **$f(x) = \\binom{n}{x}p^{x}(1-p)^{n-x}$**"
      ]
    },
    {
      "cell_type": "markdown",
      "metadata": {
        "id": "RuCAuDMB2y1d",
        "colab_type": "text"
      },
      "source": [
        "onde, $ \\binom{n}{x} = \\frac{n!}{x!(n - x)!}$"
      ]
    },
    {
      "cell_type": "code",
      "metadata": {
        "id": "XVs4KtZV2mpS",
        "colab_type": "code",
        "outputId": "021a1d13-142e-4889-9e28-c6b582eccd4f",
        "colab": {
          "base_uri": "https://localhost:8080/",
          "height": 34
        }
      },
      "source": [
        "n = 10 #defina o número de ensaios\n",
        "x = 0 #defina o número de sucesso\n",
        "p = 0.1 #defina o valor da probabilidade de um sucesso no ensaio\n",
        "f = (math.factorial(n)/(math.factorial(x)*math.factorial(n-x)))*p**x*(1-p)**(n-x) #f que é f(x) = a probabilidade de x sucessos em n ensaios\n",
        "f"
      ],
      "execution_count": 0,
      "outputs": [
        {
          "output_type": "execute_result",
          "data": {
            "text/plain": [
              "0.3486784401000001"
            ]
          },
          "metadata": {
            "tags": []
          },
          "execution_count": 12
        }
      ]
    },
    {
      "cell_type": "markdown",
      "metadata": {
        "id": "uK4nZ6G0KfE3",
        "colab_type": "text"
      },
      "source": [
        "###Probabilidade acumulada"
      ]
    },
    {
      "cell_type": "code",
      "metadata": {
        "id": "wMj-YhUoK1yL",
        "colab_type": "code",
        "outputId": "ab0f629d-3b9f-4dee-a95e-b297c080cd67",
        "colab": {
          "base_uri": "https://localhost:8080/",
          "height": 34
        }
      },
      "source": [
        "n = 10 #defina o número de ensaios\n",
        "p = 0.1 #defina o valor da probabilidade de um sucesso no ensaio\n",
        "facumulada = 0 # probabilidade acumulada\n",
        "for x in range(0,3): #define o intervalo - (a,b) - a inclui e b excludente\n",
        " f = (math.factorial(n)/(math.factorial(x)*math.factorial(n-x)))*p**x*(1-p)**(n-x) #f que é f(x) = a probabilidade de x sucessos em n ensaios\n",
        " facumulada += f\n",
        "print(facumulada)"
      ],
      "execution_count": 0,
      "outputs": [
        {
          "output_type": "stream",
          "text": [
            "0.9298091736000003\n"
          ],
          "name": "stdout"
        }
      ]
    },
    {
      "cell_type": "markdown",
      "metadata": {
        "id": "ATxkCDDIGIiW",
        "colab_type": "text"
      },
      "source": [
        "## Valor esperado e variância da distribuição binomial:"
      ]
    },
    {
      "cell_type": "markdown",
      "metadata": {
        "id": "4pAgiLbdGbOr",
        "colab_type": "text"
      },
      "source": [
        "### Valor esperado - $E(x) = \\mu = np$"
      ]
    },
    {
      "cell_type": "code",
      "metadata": {
        "id": "1MjMkVhwGGCN",
        "colab_type": "code",
        "outputId": "8aeaf847-76c3-4f34-a337-cfe899ca8f59",
        "colab": {
          "base_uri": "https://localhost:8080/",
          "height": 34
        }
      },
      "source": [
        "n = 10 #número de ensaios\n",
        "p = 0.1 #probabilidade de sucesso\n",
        "mu = n * p #mu = média\n",
        "mu"
      ],
      "execution_count": 0,
      "outputs": [
        {
          "output_type": "execute_result",
          "data": {
            "text/plain": [
              "1.0"
            ]
          },
          "metadata": {
            "tags": []
          },
          "execution_count": 16
        }
      ]
    },
    {
      "cell_type": "markdown",
      "metadata": {
        "id": "OfpACPeXHBhw",
        "colab_type": "text"
      },
      "source": [
        "### Variância - $Var(x) = \\sigma ^{2} = np(1-p)$\n",
        "## Desvio padrão - $\\sigma = \\sqrt{\\sigma ^{2}}$ \n"
      ]
    },
    {
      "cell_type": "code",
      "metadata": {
        "id": "Jf_15wcHGX6D",
        "colab_type": "code",
        "outputId": "b2ac30b1-9077-4cec-fae9-cc7e9d41a783",
        "colab": {
          "base_uri": "https://localhost:8080/",
          "height": 51
        }
      },
      "source": [
        "Var = mu*(1-p)\n",
        "stdev = Var ** 0.5\n",
        "print(Var)\n",
        "print(stdev)"
      ],
      "execution_count": 0,
      "outputs": [
        {
          "output_type": "stream",
          "text": [
            "0.9\n",
            "0.9486832980505138\n"
          ],
          "name": "stdout"
        }
      ]
    },
    {
      "cell_type": "markdown",
      "metadata": {
        "id": "6NRoS7z9IkaI",
        "colab_type": "text"
      },
      "source": [
        "# Distribuição de Poisson"
      ]
    },
    {
      "cell_type": "markdown",
      "metadata": {
        "id": "XQ_1y7HmMQ7g",
        "colab_type": "text"
      },
      "source": [
        "A distribuição de Poisson é empregada quando o experimento consiste em **contar o número de eventos que acontecem em um intervalo de tempo.**<p>\n",
        "Ex.: Quantos carros passam em um pedágio durente 1h?"
      ]
    },
    {
      "cell_type": "markdown",
      "metadata": {
        "id": "RBRcYdgoNKuh",
        "colab_type": "text"
      },
      "source": [
        "Na distribuição de Poisson temos:<p>\n",
        "**Média = Variância**"
      ]
    },
    {
      "cell_type": "markdown",
      "metadata": {
        "id": "OiFZx9g_Nonx",
        "colab_type": "text"
      },
      "source": [
        "Probabilidade de x em uma distribuição de Poisson:"
      ]
    },
    {
      "cell_type": "markdown",
      "metadata": {
        "id": "hEjFfWWENtZh",
        "colab_type": "text"
      },
      "source": [
        "### $f(x) = e^{x}\\frac{\\mu ^{x}e^{-\\mu }}{x!}$"
      ]
    },
    {
      "cell_type": "markdown",
      "metadata": {
        "id": "fsadAC79PFS9",
        "colab_type": "text"
      },
      "source": [
        "onde,<p>\n",
        "f(x) = probabilidade de x ocorrencias em um intervalo<p>\n",
        "mu = valor esperado, ou número médio, de ocorrências em um intervalo<p>\n",
        "e = 2,71828 - base do logaritmo neperiano"
      ]
    },
    {
      "cell_type": "code",
      "metadata": {
        "id": "uKpct9JNMyya",
        "colab_type": "code",
        "outputId": "e2b8af72-4be7-4be9-bc28-08fd6ee5a167",
        "colab": {
          "base_uri": "https://localhost:8080/",
          "height": 34
        }
      },
      "source": [
        "e = 2.71828\n",
        "x = 120 # número de ocorrências\n",
        "mu = 150 # valor esperado\n",
        "f = ((mu ** x)*(e**(-mu)))/(math.factorial(x)) # Probabilidade de 3 ocorrências em um minuto\n",
        "f"
      ],
      "execution_count": 0,
      "outputs": [
        {
          "output_type": "execute_result",
          "data": {
            "text/plain": [
              "0.0014502029137549019"
            ]
          },
          "metadata": {
            "tags": []
          },
          "execution_count": 22
        }
      ]
    },
    {
      "cell_type": "markdown",
      "metadata": {
        "id": "Mxh5F5ZZRMPl",
        "colab_type": "text"
      },
      "source": [
        "Probabilidade de Poisson acumulada"
      ]
    },
    {
      "cell_type": "code",
      "metadata": {
        "id": "uiBPgS8wPp5E",
        "colab_type": "code",
        "outputId": "804287dd-7b58-450f-a637-b3342d1f5d40",
        "colab": {
          "base_uri": "https://localhost:8080/",
          "height": 34
        }
      },
      "source": [
        "e = 2.71828\n",
        "x = 120 # número de ocorrências\n",
        "mu = 150 # valor esperado\n",
        "facumulada = 0 # probabilidade acumulada\n",
        "for x in range(120,123): #define o intervalo - (a,b) - a inclui e b excludente\n",
        " f = ((mu ** x)*(e**(-mu)))/(math.factorial(x)) # Probabilidade\n",
        " facumulada += f\n",
        "print(facumulada)"
      ],
      "execution_count": 0,
      "outputs": [
        {
          "output_type": "stream",
          "text": [
            "0.0054583507853983105\n"
          ],
          "name": "stdout"
        }
      ]
    },
    {
      "cell_type": "markdown",
      "metadata": {
        "id": "8oBOPG0zSEj8",
        "colab_type": "text"
      },
      "source": [
        "# Distribuição Hipergeométrica"
      ]
    },
    {
      "cell_type": "markdown",
      "metadata": {
        "id": "iEFXbNpNS8wX",
        "colab_type": "text"
      },
      "source": [
        "A **distribuição de probabilidade hipergeométrica** relaciona-se diretamente com a distribuição de probabilidade binomial. As duas distribuições de probabilidade diferem sob dois aspectos fun­damentais. Quando se trata da distribuição hipergeométrica, os ensaios não são independentes e a probabilidade de sucesso se modifica de ensaio a ensaio."
      ]
    },
    {
      "cell_type": "markdown",
      "metadata": {
        "id": "sluTAJdmUSEu",
        "colab_type": "text"
      },
      "source": [
        "### $f(x) = \\frac{\\binom{r}{x}\\binom{N-r}{n-x}}{\\binom{N}{n}}$"
      ]
    },
    {
      "cell_type": "markdown",
      "metadata": {
        "id": "y83lObvKUeBr",
        "colab_type": "text"
      },
      "source": [
        "onde,<p>\n",
        "x = número de sucessos<p>\n",
        "n = número de ensaios<p>\n",
        "f(x) = a probabilidade de x sucessos em n ensaios,<p>\n",
        "N = o número de elementos na população<p>\n",
        "r = o número de sucessos na população"
      ]
    },
    {
      "cell_type": "code",
      "metadata": {
        "id": "8GF5VUEvRH0I",
        "colab_type": "code",
        "outputId": "e88484a0-774f-4cbc-ba99-338767f22379",
        "colab": {
          "base_uri": "https://localhost:8080/",
          "height": 34
        }
      },
      "source": [
        "r = 596 #\n",
        "x = 25\n",
        "N = 600\n",
        "n = 25\n",
        "f = ((math.factorial(r)/(math.factorial(x)*math.factorial(r-x)))*(math.factorial(N-r)/(math.factorial(n-x)*math.factorial((N-r)-(n-x))))) \\\n",
        "/(math.factorial(N)/(math.factorial(n)*math.factorial(N-n)))\n",
        "f"
      ],
      "execution_count": 3,
      "outputs": [
        {
          "output_type": "execute_result",
          "data": {
            "text/plain": [
              "0.8430955556860542"
            ]
          },
          "metadata": {
            "tags": []
          },
          "execution_count": 3
        }
      ]
    },
    {
      "cell_type": "markdown",
      "metadata": {
        "id": "QvSkESlVYtIZ",
        "colab_type": "text"
      },
      "source": [
        "**Média** = n * p, onde<p>\n",
        "n = número de ensaios e p = f(x) = probabilidade de x sucessos em n ensaios"
      ]
    },
    {
      "cell_type": "code",
      "metadata": {
        "id": "l11W85l6Wi01",
        "colab_type": "code",
        "outputId": "386280f3-ebc0-42ab-952c-c4eb310aec51",
        "colab": {
          "base_uri": "https://localhost:8080/",
          "height": 34
        }
      },
      "source": [
        "media = f * n\n",
        "media"
      ],
      "execution_count": 5,
      "outputs": [
        {
          "output_type": "execute_result",
          "data": {
            "text/plain": [
              "21.077388892151355"
            ]
          },
          "metadata": {
            "tags": []
          },
          "execution_count": 5
        }
      ]
    },
    {
      "cell_type": "markdown",
      "metadata": {
        "id": "GDa2d-jmZN5f",
        "colab_type": "text"
      },
      "source": [
        "**Variância** = n * p * (1-p) * (N-n)/(N-1) #neste caso, p = f(x) = f"
      ]
    },
    {
      "cell_type": "code",
      "metadata": {
        "id": "76SwbGcjZEZX",
        "colab_type": "code",
        "colab": {
          "base_uri": "https://localhost:8080/",
          "height": 34
        },
        "outputId": "56f7ae2c-30a6-40bf-bcdf-14a5509a8635"
      },
      "source": [
        "p = f\n",
        "variancia = n * p * (1-p) * ((N-n)/(N-1))\n",
        "variancia"
      ],
      "execution_count": 8,
      "outputs": [
        {
          "output_type": "execute_result",
          "data": {
            "text/plain": [
              "3.1746297082376738"
            ]
          },
          "metadata": {
            "tags": []
          },
          "execution_count": 8
        }
      ]
    },
    {
      "cell_type": "code",
      "metadata": {
        "id": "uUbIGkEFoOGl",
        "colab_type": "code",
        "colab": {}
      },
      "source": [
        ""
      ],
      "execution_count": 0,
      "outputs": []
    }
  ]
}