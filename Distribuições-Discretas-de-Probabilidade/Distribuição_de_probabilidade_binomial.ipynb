{
  "nbformat": 4,
  "nbformat_minor": 0,
  "metadata": {
    "colab": {
      "name": "Distribuição de probabilidade binomial.ipynb",
      "provenance": [],
      "authorship_tag": "ABX9TyOPLLrWq8A6vch7Dhp4Y3sh",
      "include_colab_link": true
    },
    "kernelspec": {
      "name": "python3",
      "display_name": "Python 3"
    }
  },
  "cells": [
    {
      "cell_type": "markdown",
      "metadata": {
        "id": "view-in-github",
        "colab_type": "text"
      },
      "source": [
        "<a href=\"https://colab.research.google.com/github/whaner/Probabilidade-101/blob/master/Distribui%C3%A7%C3%A3o_de_probabilidade_binomial.ipynb\" target=\"_parent\"><img src=\"https://colab.research.google.com/assets/colab-badge.svg\" alt=\"Open In Colab\"/></a>"
      ]
    },
    {
      "cell_type": "code",
      "metadata": {
        "id": "1bd0wQVCrUxa",
        "colab_type": "code",
        "colab": {}
      },
      "source": [
        "import math"
      ],
      "execution_count": 0,
      "outputs": []
    },
    {
      "cell_type": "markdown",
      "metadata": {
        "id": "smPksP2DrbdM",
        "colab_type": "text"
      },
      "source": [
        "## Propriedade de um experimento binomial"
      ]
    },
    {
      "cell_type": "markdown",
      "metadata": {
        "id": "ry9sRALvrjyJ",
        "colab_type": "text"
      },
      "source": [
        "1.\tO experimento consiste em uma sequência de n ensaios idênticos.<p>\n",
        "2.\tDois resultados são possíveis em cada ensaio. Referimo-nos a um como um sucesso e ao outro como umfracasso.<p>\n",
        "3.\tA probabilidade de um sucesso, denotado por p, não se modifica de ensaio para ensaio. Consequentemente, a probabilidade de um fracasso, denotado por 1 - p, não se modifica de ensaio para ensaio.<p>\n",
        "4.\tOs ensaios são independentes."
      ]
    },
    {
      "cell_type": "markdown",
      "metadata": {
        "id": "WYK1t_ZfsGJZ",
        "colab_type": "text"
      },
      "source": [
        "###**x = número de sucessos**<p>\n",
        "###**n = número de ensaios**<p>\n"
      ]
    },
    {
      "cell_type": "markdown",
      "metadata": {
        "id": "s6N9lilvwsZZ",
        "colab_type": "text"
      },
      "source": [
        "Como calcular o número de resultados experimentais que fornecem exatamente x sucessos em n ensaios:"
      ]
    },
    {
      "cell_type": "markdown",
      "metadata": {
        "id": "Dc9ao0AMw5x8",
        "colab_type": "text"
      },
      "source": [
        "## $ \\binom{n}{x} = \\frac{n!}{x!(n - x)!}$"
      ]
    },
    {
      "cell_type": "code",
      "metadata": {
        "id": "ejbZ1axnsUKV",
        "colab_type": "code",
        "colab": {
          "base_uri": "https://localhost:8080/",
          "height": 34
        },
        "outputId": "d6b7de09-b587-4cad-a6fe-660b5eeb7ea6"
      },
      "source": [
        "x = 2 #define x - número de sucesso\n",
        "n = 3 #define n - número de ensaios\n",
        "calculo = math.factorial(n)/(math.factorial(x)*math.factorial(n-x)) #definindo a variável 'cálculo' contendo o número de resultados\n",
        "calculo"
      ],
      "execution_count": 10,
      "outputs": [
        {
          "output_type": "execute_result",
          "data": {
            "text/plain": [
              "3.0"
            ]
          },
          "metadata": {
            "tags": []
          },
          "execution_count": 10
        }
      ]
    },
    {
      "cell_type": "markdown",
      "metadata": {
        "id": "UdB4yWG8yss_",
        "colab_type": "text"
      },
      "source": [
        "Probabilidade de uma sequência de resultados de ensaio em particular com\tx sucessos em n ensaios:"
      ]
    },
    {
      "cell_type": "markdown",
      "metadata": {
        "id": "BXBg6oE8zD_b",
        "colab_type": "text"
      },
      "source": [
        "### $p^{x}(1-p)^{n-x}$"
      ]
    },
    {
      "cell_type": "code",
      "metadata": {
        "id": "DKxseEgNxzGV",
        "colab_type": "code",
        "colab": {
          "base_uri": "https://localhost:8080/",
          "height": 34
        },
        "outputId": "0f5b4cad-df7d-4381-85fd-ca6308398bdf"
      },
      "source": [
        "p = 0.3 #defina o valor da probabilidade de sucesso\n",
        "probabilidade = p**x*(1-p)**(n-x)\n",
        "probabilidade"
      ],
      "execution_count": 12,
      "outputs": [
        {
          "output_type": "execute_result",
          "data": {
            "text/plain": [
              "0.063"
            ]
          },
          "metadata": {
            "tags": []
          },
          "execution_count": 12
        }
      ]
    },
    {
      "cell_type": "markdown",
      "metadata": {
        "id": "yj9idC5U0QAT",
        "colab_type": "text"
      },
      "source": [
        "## Função de probabilidade binomial f(x):"
      ]
    },
    {
      "cell_type": "markdown",
      "metadata": {
        "id": "A5SjBoqx0T1m",
        "colab_type": "text"
      },
      "source": [
        "# **$f(x) = \\binom{n}{x}p^{x}(1-p)^{n-x}$**"
      ]
    },
    {
      "cell_type": "markdown",
      "metadata": {
        "id": "RuCAuDMB2y1d",
        "colab_type": "text"
      },
      "source": [
        "onde, $ \\binom{n}{x} = \\frac{n!}{x!(n - x)!}$"
      ]
    },
    {
      "cell_type": "code",
      "metadata": {
        "id": "XVs4KtZV2mpS",
        "colab_type": "code",
        "colab": {
          "base_uri": "https://localhost:8080/",
          "height": 34
        },
        "outputId": "36f3c971-5bb9-4af3-de12-a9d73a81d940"
      },
      "source": [
        "n = 10 #defina o número de ensaios\n",
        "x = 4 #defina o valor de sucesso\n",
        "p = 0.3 #defina o valor da probabilidade\n",
        "f = (math.factorial(n)/(math.factorial(x)*math.factorial(n-x)))*p**x*(1-p)**(n-x)\n",
        "f"
      ],
      "execution_count": 21,
      "outputs": [
        {
          "output_type": "execute_result",
          "data": {
            "text/plain": [
              "0.2001209489999999"
            ]
          },
          "metadata": {
            "tags": []
          },
          "execution_count": 21
        }
      ]
    },
    {
      "cell_type": "code",
      "metadata": {
        "id": "ZXh1GKnV3HIH",
        "colab_type": "code",
        "colab": {}
      },
      "source": [
        ""
      ],
      "execution_count": 0,
      "outputs": []
    }
  ]
}